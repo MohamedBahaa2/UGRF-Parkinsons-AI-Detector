{
 "cells": [
  {
   "cell_type": "markdown",
   "metadata": {},
   "source": [
    "# Parkinson's Disease Detection - Example Analysis\n",
    "\n",
    "This notebook demonstrates how to use the Parkinson's detection pipeline with your gait data."
   ]
  },
  {
   "cell_type": "markdown",
   "metadata": {},
   "source": [
    "## 1. Setup and Imports"
   ]
  },
  {
   "cell_type": "code",
   "execution_count": null,
   "metadata": {},
   "outputs": [],
   "source": [
    "import sys\n",
    "sys.path.append('../code')\n",
    "\n",
    "from parkinsons_detector import ParkinsonDetector\n",
    "import pandas as pd\n",
    "import numpy as np\n",
    "import matplotlib.pyplot as plt\n",
    "import seaborn as sns\n",
    "\n",
    "# Set style for better plots\n",
    "plt.style.use('seaborn-v0_8')\n",
    "sns.set_palette('husl')\n",
    "\n",
    "print(\"Setup complete!\")"
   ]
  },
  {
   "cell_type": "markdown",
   "metadata": {},
   "source": [
    "## 2. Load and Explore Data"
   ]
  },
  {
   "cell_type": "code",
   "execution_count": null,
   "metadata": {},
   "outputs": [],
   "source": [
    "# Initialize detector\n",
    "detector = ParkinsonDetector()\n",
    "\n",
    "# Load data (update paths to your actual files)\n",
    "control_path = \"../data/control_group_selected_variables.csv\"\n",
    "patients_path = \"../data/patients_selected_variables.csv\"\n",
    "\n",
    "# Load and combine data\n",
    "df = detector.load_and_prepare_data(control_path, patients_path)\n",
    "\n",
    "if df is not None:\n",
    "    print(f\"Dataset loaded successfully: {df.shape}\")\n",
    "    print(f\"Control subjects: {len(df[df['label']==0])}\")\n",
    "    print(f\"Parkinson's subjects: {len(df[df['label']==1])}\")\n",
    "else:\n",
    "    print(\"Error loading data. Check file paths!\")"
   ]
  },
  {
   "cell_type": "code",
   "execution_count": null,
   "metadata": {},
   "outputs": [],
   "source": [
    "# Data exploration\n",
    "if df is not None:\n",
    "    print(\"Dataset Info:\")\n",
    "    print(df.info())\n",
    "    \n",
    "    print(\"\\nFirst few rows:\")\n",
    "    display(df.head())\n",
    "    \n",
    "    print(\"\\nBasic statistics:\")\n",
    "    display(df.describe())"
   ]
  },
  {
   "cell_type": "markdown",
   "metadata": {},
   "source": [
    "## 3. Data Visualization"
   ]
  },
  {
   "cell_type": "code",
   "execution_count": null,
   "metadata": {},
   "outputs": [],
   "source": [
    "# Plot distribution of key features\n",
    "if df is not None:\n",
    "    fig, axes = plt.subplots(2, 3, figsize=(15, 10))\n",
    "    axes = axes.ravel()\n",
    "    \n",
    "    # Select key features to plot\n",
    "    key_features = [col for col in df.columns if col != 'label'][:6]\n",
    "    \n",
    "    for i, feature in enumerate(key_features):\n",
    "        # Box plot comparing control vs patients\n",
    "        sns.boxplot(data=df, x='label', y=feature, ax=axes[i])\n",
    "        axes[i].set_title(f'{feature}')\n",
    "        axes[i].set_xlabel('Group (0=Control, 1=Parkinson\'s)')\n",
    "    \n",
    "    plt.tight_layout()\n",
    "    plt.show()"
   ]
  },
  {
   "cell_type": "markdown",
   "metadata": {},
   "source": [
    "## 4. Run Complete Pipeline"
   ]
  },
  {
   "cell_type": "code",
   "execution_count": null,
   "metadata": {},
   "outputs": [],
   "source": [
    "# Run the complete machine learning pipeline\n",
    "if df is not None:\n",
    "    results = detector.run_complete_pipeline(control_path, patients_path)\n",
    "else:\n",
    "    print(\"Cannot run pipeline - data not loaded properly\")"
   ]
  },
  {
   "cell_type": "markdown",
   "metadata": {},
   "source": [
    "## 5. Analyze Results"
   ]
  },
  {
   "cell_type": "code",
   "execution_count": null,
   "metadata": {},
   "outputs": [],
   "source": [
    "# Plot model performance comparison\n",
    "if 'results' in locals() and results:\n",
    "    model_names = list(results.keys())\n",
    "    accuracies = [results[name]['accuracy'] for name in model_names]\n",
    "    cv_means = [results[name]['cv_mean'] for name in model_names]\n",
    "    \n",
    "    fig, (ax1, ax2) = plt.subplots(1, 2, figsize=(15, 6))\n",
    "    \n",
    "    # Test accuracy\n",
    "    bars1 = ax1.barh(model_names, accuracies)\n",
    "    ax1.set_xlabel('Test Accuracy')\n",
    "    ax1.set_title('Model Performance - Test Accuracy')\n",
    "    ax1.set_xlim(0, 1)\n",
    "    \n",
    "    # Add value labels\n",
    "    for i, (bar, acc) in enumerate(zip(bars1, accuracies)):\n",
    "        ax1.text(acc + 0.01, i, f'{acc:.3f}', va='center')\n",
    "    \n",
    "    # Cross-validation accuracy\n",
    "    bars2 = ax2.barh(model_names, cv_means)\n",
    "    ax2.set_xlabel('Cross-Validation Accuracy')\n",
    "    ax2.set_title('Model Performance - CV Accuracy')\n",
    "    ax2.set_xlim(0, 1)\n",
    "    \n",
    "    # Add value labels\n",
    "    for i, (bar, cv) in enumerate(zip(bars2, cv_means)):\n",
    "        ax2.text(cv + 0.01, i, f'{cv:.3f}', va='center')\n",
    "    \n",
    "    plt.tight_layout()\n",
    "    plt.show()"
   ]
  },
  {
   "cell_type": "code",
   "execution_count": null,
   "metadata": {},
   "outputs": [],
   "source": [
    "# Feature importance analysis (for Random Forest)\n",
    "if 'results' in locals() and 'Random Forest' in results:\n",
    "    rf_model = results['Random Forest']['model']\n",
    "    \n",
    "    if hasattr(rf_model, 'feature_importances_'):\n",
    "        importance = rf_model.feature_importances_\n",
    "        feature_names = detector.selected_features\n",
    "        \n",
    "        # Create feature importance DataFrame\n",
    "        feature_df = pd.DataFrame({\n",
    "            'feature': feature_names,\n",
    "            'importance': importance\n",
    "        }).sort_values('importance', ascending=True)\n",
    "        \n",
    "        # Plot feature importance\n",
    "        plt.figure(figsize=(10, 8))\n",
    "        bars = plt.barh(feature_df['feature'], feature_df['importance'])\n",
    "        plt.xlabel('Feature Importance')\n",
    "        plt.title('Feature Importance for Parkinson\'s Detection (Random Forest)')\n",
    "        \n",
    "        # Add value labels\n",
    "        for i, (bar, imp) in enumerate(zip(bars, feature_df['importance'])):\n",
    "            plt.text(imp + 0.005, i, f'{imp:.3f}', va='center')\n",
    "        \n",
    "        plt.tight_layout()\n",
    "        plt.show()\n",
    "        \n",
    "        print(\"Top 5 Most Important Features:\")\n",
    "        top_features = feature_df.tail().sort_values('importance', ascending=False)\n",
    "        for idx, row in top_features.iterrows():\n",
    "            print(f\"{row['feature']}: {row['importance']:.3f}\")"
   ]
  },
  {
   "cell_type": "markdown",
   "metadata": {},
   "source": [
    "## 6. Model Interpretation and Clinical Insights"
   ]
  },
  {
   "cell_type": "code",
   "execution_count": null,
   "metadata": {},
   "outputs": [],
   "source": [
    "# Get best model details\n",
    "if 'detector' in locals() and detector.results:\n",
    "    best_name, best_model = detector.get_best_model()\n",
    "    best_results = detector.results[best_name]\n",
    "    \n",
    "    print(f\"Best Performing Model: {best_name}\")\n",
    "    print(f\"Test Accuracy: {best_results['accuracy']:.3f}\")\n",
    "    if best_results['auc']:\n",
    "        print(f\"AUC Score: {best_results['auc']:.3f}\")\n",
    "    print(f\"Cross-Validation: {best_results['cv_mean']:.3f} ± {best_results['cv_std']:.3f}\")\n",
    "    \n",
    "    print(\"\\nClinical Interpretation:\")\n",
    "    print(\"- High accuracy suggests reliable discrimination between groups\")\n",
    "    print(\"- Cross-validation confirms robust performance\")\n",
    "    print(\"- Feature importance aligns with clinical observations\")\n",
    "    print(\"- Results should be validated with larger clinical datasets\")"
   ]
  },
  {
   "cell_type": "markdown",
   "metadata": {},
   "source": [
    "## 7. Save Results and Model"
   ]
  },
  {
   "cell_type": "code",
   "execution_count": null,
   "metadata": {},
   "outputs": [],
   "source": [
    "# Save the best model for future use\n",
    "if 'detector' in locals() and detector.results:\n",
    "    model_path = '../results/parkinsons_model_final.joblib'\n",
    "    detector.save_model(model_path)\n",
    "    \n",
    "    print(f\"Model saved successfully to: {model_path}\")\n",
    "    print(\"\\nYou can load this model later using:\")\n",
    "    print(\"import joblib\")\n",
    "    print(f\"model_package = joblib.load('{model_path}')\")\n",
    "    print(\"model = model_package['model']\")\n",
    "    print(\"scaler = model_package['scaler']\")\n",
    "    print(\"feature_selector = model_package['feature_selector']\")"
   ]
  },
  {
   "cell_type": "markdown",
   "metadata": {},
   "source": [
    "## 8. Next Steps and Recommendations"
   ]
  },
  {
   "cell_type": "markdown",
   "metadata": {},
   "source": [
    "### For Further Analysis:\n",
    "\n",
    "1. **Hyperparameter Tuning**: Use GridSearchCV to optimize model parameters\n",
    "2. **Feature Engineering**: Create additional derived features (ratios, differences)\n",
    "3. **Ensemble Methods**: Combine multiple models for improved performance\n",
    "4. **Clinical Validation**: Test with independent clinical datasets\n",
    "5. **Longitudinal Analysis**: Track changes over time if temporal data available\n",
    "\n",
    "### Clinical Considerations:\n",
    "\n",
    "- Results should be validated by movement disorder specialists\n",
    "- Consider medication effects (ON/OFF states) if relevant\n",
    "- Account for disease severity and progression\n",
    "- Ensure diverse patient populations in validation studies"
   ]
  }
 ],
 "metadata": {
  "kernelspec": {
   "display_name": "Python 3",
   "language": "python",
   "name": "python3"
  },
  "language_info": {
   "codemirror_mode": {
    "name": "ipython",
    "version": 3
   },
   "file_extension": ".py",
   "name": "python",
   "nbconvert_exporter": "python",
   "pygments_lexer": "ipython3",
   "version": "3.8.0"
  }
 },
 "nbformat": 4,
 "nbformat_minor": 4
}